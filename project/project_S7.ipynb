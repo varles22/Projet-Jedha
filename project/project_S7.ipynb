{
  "nbformat": 4,
  "nbformat_minor": 0,
  "metadata": {
    "colab": {
      "name": "project_S7.ipynb",
      "provenance": [],
      "collapsed_sections": []
    },
    "kernelspec": {
      "name": "python3",
      "display_name": "Python 3"
    },
    "accelerator": "GPU"
  },
  "cells": [
    {
      "cell_type": "code",
      "metadata": {
        "id": "zm8gRw3dHzG9",
        "colab_type": "code",
        "outputId": "9194421e-a358-4012-80cc-e0808104e28a",
        "colab": {
          "base_uri": "https://localhost:8080/",
          "height": 632
        }
      },
      "source": [
        "!pip install --upgrade tensorflow"
      ],
      "execution_count": 25,
      "outputs": [
        {
          "output_type": "stream",
          "text": [
            "Requirement already up-to-date: tensorflow in /usr/local/lib/python3.6/dist-packages (2.2.0rc3)\n",
            "Requirement already satisfied, skipping upgrade: scipy==1.4.1; python_version >= \"3\" in /usr/local/lib/python3.6/dist-packages (from tensorflow) (1.4.1)\n",
            "Requirement already satisfied, skipping upgrade: keras-preprocessing>=1.1.0 in /usr/local/lib/python3.6/dist-packages (from tensorflow) (1.1.0)\n",
            "Requirement already satisfied, skipping upgrade: tensorboard<2.3.0,>=2.2.0 in /usr/local/lib/python3.6/dist-packages (from tensorflow) (2.2.1)\n",
            "Requirement already satisfied, skipping upgrade: astunparse==1.6.3 in /usr/local/lib/python3.6/dist-packages (from tensorflow) (1.6.3)\n",
            "Requirement already satisfied, skipping upgrade: opt-einsum>=2.3.2 in /usr/local/lib/python3.6/dist-packages (from tensorflow) (3.2.1)\n",
            "Requirement already satisfied, skipping upgrade: gast==0.3.3 in /usr/local/lib/python3.6/dist-packages (from tensorflow) (0.3.3)\n",
            "Requirement already satisfied, skipping upgrade: six>=1.12.0 in /usr/local/lib/python3.6/dist-packages (from tensorflow) (1.12.0)\n",
            "Requirement already satisfied, skipping upgrade: wheel>=0.26; python_version >= \"3\" in /usr/local/lib/python3.6/dist-packages (from tensorflow) (0.34.2)\n",
            "Requirement already satisfied, skipping upgrade: tensorflow-estimator<2.3.0,>=2.2.0rc0 in /usr/local/lib/python3.6/dist-packages (from tensorflow) (2.2.0)\n",
            "Requirement already satisfied, skipping upgrade: protobuf>=3.8.0 in /usr/local/lib/python3.6/dist-packages (from tensorflow) (3.10.0)\n",
            "Requirement already satisfied, skipping upgrade: google-pasta>=0.1.8 in /usr/local/lib/python3.6/dist-packages (from tensorflow) (0.2.0)\n",
            "Requirement already satisfied, skipping upgrade: absl-py>=0.7.0 in /usr/local/lib/python3.6/dist-packages (from tensorflow) (0.9.0)\n",
            "Requirement already satisfied, skipping upgrade: numpy<2.0,>=1.16.0 in /usr/local/lib/python3.6/dist-packages (from tensorflow) (1.18.3)\n",
            "Requirement already satisfied, skipping upgrade: grpcio>=1.8.6 in /usr/local/lib/python3.6/dist-packages (from tensorflow) (1.28.1)\n",
            "Requirement already satisfied, skipping upgrade: h5py<2.11.0,>=2.10.0 in /usr/local/lib/python3.6/dist-packages (from tensorflow) (2.10.0)\n",
            "Requirement already satisfied, skipping upgrade: wrapt>=1.11.1 in /usr/local/lib/python3.6/dist-packages (from tensorflow) (1.12.1)\n",
            "Requirement already satisfied, skipping upgrade: termcolor>=1.1.0 in /usr/local/lib/python3.6/dist-packages (from tensorflow) (1.1.0)\n",
            "Requirement already satisfied, skipping upgrade: google-auth-oauthlib<0.5,>=0.4.1 in /usr/local/lib/python3.6/dist-packages (from tensorboard<2.3.0,>=2.2.0->tensorflow) (0.4.1)\n",
            "Requirement already satisfied, skipping upgrade: tensorboard-plugin-wit>=1.6.0 in /usr/local/lib/python3.6/dist-packages (from tensorboard<2.3.0,>=2.2.0->tensorflow) (1.6.0.post3)\n",
            "Requirement already satisfied, skipping upgrade: requests<3,>=2.21.0 in /usr/local/lib/python3.6/dist-packages (from tensorboard<2.3.0,>=2.2.0->tensorflow) (2.21.0)\n",
            "Requirement already satisfied, skipping upgrade: werkzeug>=0.11.15 in /usr/local/lib/python3.6/dist-packages (from tensorboard<2.3.0,>=2.2.0->tensorflow) (1.0.1)\n",
            "Requirement already satisfied, skipping upgrade: setuptools>=41.0.0 in /usr/local/lib/python3.6/dist-packages (from tensorboard<2.3.0,>=2.2.0->tensorflow) (46.1.3)\n",
            "Requirement already satisfied, skipping upgrade: google-auth<2,>=1.6.3 in /usr/local/lib/python3.6/dist-packages (from tensorboard<2.3.0,>=2.2.0->tensorflow) (1.7.2)\n",
            "Requirement already satisfied, skipping upgrade: markdown>=2.6.8 in /usr/local/lib/python3.6/dist-packages (from tensorboard<2.3.0,>=2.2.0->tensorflow) (3.2.1)\n",
            "Requirement already satisfied, skipping upgrade: requests-oauthlib>=0.7.0 in /usr/local/lib/python3.6/dist-packages (from google-auth-oauthlib<0.5,>=0.4.1->tensorboard<2.3.0,>=2.2.0->tensorflow) (1.3.0)\n",
            "Requirement already satisfied, skipping upgrade: certifi>=2017.4.17 in /usr/local/lib/python3.6/dist-packages (from requests<3,>=2.21.0->tensorboard<2.3.0,>=2.2.0->tensorflow) (2020.4.5.1)\n",
            "Requirement already satisfied, skipping upgrade: idna<2.9,>=2.5 in /usr/local/lib/python3.6/dist-packages (from requests<3,>=2.21.0->tensorboard<2.3.0,>=2.2.0->tensorflow) (2.8)\n",
            "Requirement already satisfied, skipping upgrade: urllib3<1.25,>=1.21.1 in /usr/local/lib/python3.6/dist-packages (from requests<3,>=2.21.0->tensorboard<2.3.0,>=2.2.0->tensorflow) (1.24.3)\n",
            "Requirement already satisfied, skipping upgrade: chardet<3.1.0,>=3.0.2 in /usr/local/lib/python3.6/dist-packages (from requests<3,>=2.21.0->tensorboard<2.3.0,>=2.2.0->tensorflow) (3.0.4)\n",
            "Requirement already satisfied, skipping upgrade: pyasn1-modules>=0.2.1 in /usr/local/lib/python3.6/dist-packages (from google-auth<2,>=1.6.3->tensorboard<2.3.0,>=2.2.0->tensorflow) (0.2.8)\n",
            "Requirement already satisfied, skipping upgrade: cachetools<3.2,>=2.0.0 in /usr/local/lib/python3.6/dist-packages (from google-auth<2,>=1.6.3->tensorboard<2.3.0,>=2.2.0->tensorflow) (3.1.1)\n",
            "Requirement already satisfied, skipping upgrade: rsa<4.1,>=3.1.4 in /usr/local/lib/python3.6/dist-packages (from google-auth<2,>=1.6.3->tensorboard<2.3.0,>=2.2.0->tensorflow) (4.0)\n",
            "Requirement already satisfied, skipping upgrade: oauthlib>=3.0.0 in /usr/local/lib/python3.6/dist-packages (from requests-oauthlib>=0.7.0->google-auth-oauthlib<0.5,>=0.4.1->tensorboard<2.3.0,>=2.2.0->tensorflow) (3.1.0)\n",
            "Requirement already satisfied, skipping upgrade: pyasn1<0.5.0,>=0.4.6 in /usr/local/lib/python3.6/dist-packages (from pyasn1-modules>=0.2.1->google-auth<2,>=1.6.3->tensorboard<2.3.0,>=2.2.0->tensorflow) (0.4.8)\n"
          ],
          "name": "stdout"
        }
      ]
    },
    {
      "cell_type": "code",
      "metadata": {
        "id": "hMuDO9gmPSa0",
        "colab_type": "code",
        "colab": {}
      },
      "source": [
        "import pandas as pd\n",
        "import tensorflow as tf\n",
        "import time\n",
        "import numpy as np\n",
        "import tensorflow_datasets as tfds\n",
        "import pathlib"
      ],
      "execution_count": 0,
      "outputs": []
    },
    {
      "cell_type": "code",
      "metadata": {
        "id": "4idGNCFAPIok",
        "colab_type": "code",
        "colab": {}
      },
      "source": [
        "train_data = pd.read_csv('train.csv')\n",
        "test_data  = pd.read_csv('test.csv')\n",
        "sample_submission = pd.read_csv('sample_submission.csv')"
      ],
      "execution_count": 0,
      "outputs": []
    },
    {
      "cell_type": "code",
      "metadata": {
        "id": "y36QHqY8PzCj",
        "colab_type": "code",
        "outputId": "1709f72b-9019-493e-e0ad-26e20eb4d92c",
        "colab": {
          "base_uri": "https://localhost:8080/",
          "height": 204
        }
      },
      "source": [
        "train_data.head()"
      ],
      "execution_count": 28,
      "outputs": [
        {
          "output_type": "execute_result",
          "data": {
            "text/html": [
              "<div>\n",
              "<style scoped>\n",
              "    .dataframe tbody tr th:only-of-type {\n",
              "        vertical-align: middle;\n",
              "    }\n",
              "\n",
              "    .dataframe tbody tr th {\n",
              "        vertical-align: top;\n",
              "    }\n",
              "\n",
              "    .dataframe thead th {\n",
              "        text-align: right;\n",
              "    }\n",
              "</style>\n",
              "<table border=\"1\" class=\"dataframe\">\n",
              "  <thead>\n",
              "    <tr style=\"text-align: right;\">\n",
              "      <th></th>\n",
              "      <th>id</th>\n",
              "      <th>keyword</th>\n",
              "      <th>location</th>\n",
              "      <th>text</th>\n",
              "      <th>target</th>\n",
              "    </tr>\n",
              "  </thead>\n",
              "  <tbody>\n",
              "    <tr>\n",
              "      <th>0</th>\n",
              "      <td>1</td>\n",
              "      <td>NaN</td>\n",
              "      <td>NaN</td>\n",
              "      <td>Our Deeds are the Reason of this #earthquake M...</td>\n",
              "      <td>1</td>\n",
              "    </tr>\n",
              "    <tr>\n",
              "      <th>1</th>\n",
              "      <td>4</td>\n",
              "      <td>NaN</td>\n",
              "      <td>NaN</td>\n",
              "      <td>Forest fire near La Ronge Sask. Canada</td>\n",
              "      <td>1</td>\n",
              "    </tr>\n",
              "    <tr>\n",
              "      <th>2</th>\n",
              "      <td>5</td>\n",
              "      <td>NaN</td>\n",
              "      <td>NaN</td>\n",
              "      <td>All residents asked to 'shelter in place' are ...</td>\n",
              "      <td>1</td>\n",
              "    </tr>\n",
              "    <tr>\n",
              "      <th>3</th>\n",
              "      <td>6</td>\n",
              "      <td>NaN</td>\n",
              "      <td>NaN</td>\n",
              "      <td>13,000 people receive #wildfires evacuation or...</td>\n",
              "      <td>1</td>\n",
              "    </tr>\n",
              "    <tr>\n",
              "      <th>4</th>\n",
              "      <td>7</td>\n",
              "      <td>NaN</td>\n",
              "      <td>NaN</td>\n",
              "      <td>Just got sent this photo from Ruby #Alaska as ...</td>\n",
              "      <td>1</td>\n",
              "    </tr>\n",
              "  </tbody>\n",
              "</table>\n",
              "</div>"
            ],
            "text/plain": [
              "   id keyword  ...                                               text target\n",
              "0   1     NaN  ...  Our Deeds are the Reason of this #earthquake M...      1\n",
              "1   4     NaN  ...             Forest fire near La Ronge Sask. Canada      1\n",
              "2   5     NaN  ...  All residents asked to 'shelter in place' are ...      1\n",
              "3   6     NaN  ...  13,000 people receive #wildfires evacuation or...      1\n",
              "4   7     NaN  ...  Just got sent this photo from Ruby #Alaska as ...      1\n",
              "\n",
              "[5 rows x 5 columns]"
            ]
          },
          "metadata": {
            "tags": []
          },
          "execution_count": 28
        }
      ]
    },
    {
      "cell_type": "code",
      "metadata": {
        "id": "Pge8xW0gVHzP",
        "colab_type": "code",
        "colab": {}
      },
      "source": [
        "import re\n",
        "def clean_phrase(phrase):\n",
        "  phrase = phrase.encode(\"utf-8\").decode(\"utf-8\")\n",
        "  phrase = re.sub(r'https\\S+','',phrase)\n",
        "  phrase = re.sub(r'http\\S+','',phrase)\n",
        "\n",
        "  return phrase"
      ],
      "execution_count": 0,
      "outputs": []
    },
    {
      "cell_type": "code",
      "metadata": {
        "id": "fRgL85lZVQL8",
        "colab_type": "code",
        "colab": {}
      },
      "source": [
        "train_data['text'] = train_data['text'].apply(lambda x : clean_phrase(x))\n",
        "test_data['text'] = test_data['text'].apply(lambda x : clean_phrase(x))"
      ],
      "execution_count": 0,
      "outputs": []
    },
    {
      "cell_type": "code",
      "metadata": {
        "id": "1KDtboYZjBiV",
        "colab_type": "code",
        "colab": {}
      },
      "source": [
        "sent_data = train_data.text.values\n",
        "labels_data = train_data.target.values\n",
        "sent_submission = test_data.text.values"
      ],
      "execution_count": 0,
      "outputs": []
    },
    {
      "cell_type": "code",
      "metadata": {
        "id": "fMO9pJiRtAOw",
        "colab_type": "code",
        "colab": {}
      },
      "source": [
        "from sklearn.model_selection import train_test_split\n",
        "sent_train, sent_test, labels_train, labels_test = train_test_split(sent_data, labels_data, test_size=0.2, random_state=42)"
      ],
      "execution_count": 0,
      "outputs": []
    },
    {
      "cell_type": "code",
      "metadata": {
        "id": "QevUReM1jF75",
        "colab_type": "code",
        "colab": {}
      },
      "source": [
        "from tensorflow.keras.preprocessing.text import Tokenizer\n",
        "from tensorflow.keras.preprocessing.sequence import pad_sequences"
      ],
      "execution_count": 0,
      "outputs": []
    },
    {
      "cell_type": "code",
      "metadata": {
        "id": "Lv7sgw2mjkKR",
        "colab_type": "code",
        "outputId": "299340e1-842e-4a14-c716-d32d822f6d86",
        "colab": {
          "base_uri": "https://localhost:8080/",
          "height": 51
        }
      },
      "source": [
        "tokenizer = Tokenizer()\n",
        "tokenizer.fit_on_texts(sent_data)\n",
        "\n",
        "X_train = tokenizer.texts_to_sequences(sent_data)\n",
        "# X_test = tokenizer.texts_to_sequences(sent_test)\n",
        "X_submission = tokenizer.texts_to_sequences(sent_submission)\n",
        "\n",
        "y_train = labels_data\n",
        "# y_test = labels_test\n",
        "\n",
        "vocab_size = len(tokenizer.word_index) + 1  # Adding 1 because of reserved 0 index\n",
        "\n",
        "print(sent_train[2])\n",
        "print(X_train[2])"
      ],
      "execution_count": 34,
      "outputs": [
        {
          "output_type": "stream",
          "text": [
            "Tell @BarackObama to rescind medals of 'honor' given to US soldiers at the Massacre of Wounded Knee. SIGN NOW &amp; RT! \n",
            "[36, 1748, 1618, 4, 6880, 3, 6881, 20, 132, 6882, 17, 1749, 35, 437, 252, 53, 2155, 3, 711, 1403, 20, 1104]\n"
          ],
          "name": "stdout"
        }
      ]
    },
    {
      "cell_type": "code",
      "metadata": {
        "id": "5ze_SqqbtW2X",
        "colab_type": "code",
        "colab": {
          "base_uri": "https://localhost:8080/",
          "height": 357
        },
        "outputId": "2ae32b8e-c328-4696-aa77-3a62d265d292"
      },
      "source": [
        "\n",
        "maxlen = 280\n",
        "\n",
        "X_train = pad_sequences(X_train, padding='post', maxlen=maxlen)\n",
        "# X_test = pad_sequences(X_test, padding='post', maxlen=maxlen)\n",
        "X_submission = pad_sequences(X_submission, padding='post', maxlen=maxlen)\n",
        "\n",
        "print(X_train[0, :])"
      ],
      "execution_count": 35,
      "outputs": [
        {
          "output_type": "stream",
          "text": [
            "[ 115 4609   20    1  866    5   18  259  134 1617 4610   85   36    0\n",
            "    0    0    0    0    0    0    0    0    0    0    0    0    0    0\n",
            "    0    0    0    0    0    0    0    0    0    0    0    0    0    0\n",
            "    0    0    0    0    0    0    0    0    0    0    0    0    0    0\n",
            "    0    0    0    0    0    0    0    0    0    0    0    0    0    0\n",
            "    0    0    0    0    0    0    0    0    0    0    0    0    0    0\n",
            "    0    0    0    0    0    0    0    0    0    0    0    0    0    0\n",
            "    0    0    0    0    0    0    0    0    0    0    0    0    0    0\n",
            "    0    0    0    0    0    0    0    0    0    0    0    0    0    0\n",
            "    0    0    0    0    0    0    0    0    0    0    0    0    0    0\n",
            "    0    0    0    0    0    0    0    0    0    0    0    0    0    0\n",
            "    0    0    0    0    0    0    0    0    0    0    0    0    0    0\n",
            "    0    0    0    0    0    0    0    0    0    0    0    0    0    0\n",
            "    0    0    0    0    0    0    0    0    0    0    0    0    0    0\n",
            "    0    0    0    0    0    0    0    0    0    0    0    0    0    0\n",
            "    0    0    0    0    0    0    0    0    0    0    0    0    0    0\n",
            "    0    0    0    0    0    0    0    0    0    0    0    0    0    0\n",
            "    0    0    0    0    0    0    0    0    0    0    0    0    0    0\n",
            "    0    0    0    0    0    0    0    0    0    0    0    0    0    0\n",
            "    0    0    0    0    0    0    0    0    0    0    0    0    0    0]\n"
          ],
          "name": "stdout"
        }
      ]
    },
    {
      "cell_type": "code",
      "metadata": {
        "id": "knIRmYA0tesQ",
        "colab_type": "code",
        "colab": {}
      },
      "source": [
        "from tensorflow.keras import Sequential, layers, regularizers"
      ],
      "execution_count": 0,
      "outputs": []
    },
    {
      "cell_type": "code",
      "metadata": {
        "id": "CbSDtlHLtgJo",
        "colab_type": "code",
        "colab": {}
      },
      "source": [
        "import matplotlib.pyplot as plt\n",
        "plt.style.use('ggplot')\n",
        "\n",
        "def plot_history(history):\n",
        "    acc = history.history['accuracy']\n",
        "    val_acc = history.history['val_accuracy']\n",
        "    loss = history.history['loss']\n",
        "    val_loss = history.history['val_loss']\n",
        "    x = range(1, len(acc) + 1)\n",
        "\n",
        "    plt.figure(figsize=(12, 5))\n",
        "    plt.subplot(1, 2, 1)\n",
        "    plt.plot(x, acc, 'b', label='Training acc')\n",
        "    plt.plot(x, val_acc, 'r', label='Validation acc')\n",
        "    plt.title('Training and validation accuracy')\n",
        "    plt.legend()\n",
        "    plt.subplot(1, 2, 2)\n",
        "    plt.plot(x, loss, 'b', label='Training loss')\n",
        "    plt.plot(x, val_loss, 'r', label='Validation loss')\n",
        "    plt.title('Training and validation loss')\n",
        "    plt.legend()"
      ],
      "execution_count": 0,
      "outputs": []
    },
    {
      "cell_type": "code",
      "metadata": {
        "id": "ZtKivJGNt21H",
        "colab_type": "code",
        "colab": {
          "base_uri": "https://localhost:8080/",
          "height": 391
        },
        "outputId": "7b10929f-4cf7-4604-af26-5106befb143a"
      },
      "source": [
        "embedding_dim = 100\n",
        "drop_out_prob = 0.3\n",
        "\n",
        "model = Sequential()\n",
        "model.add(layers.Embedding(input_dim=vocab_size, \n",
        "                           output_dim=embedding_dim, \n",
        "                           input_length=maxlen))\n",
        "model.add(layers.GlobalMaxPool1D())\n",
        "model.add(layers.Dense(30, activation='relu'))\n",
        "model.add(layers.Dropout(drop_out_prob))\n",
        "model.add(layers.Dense(10, activation='relu'))\n",
        "model.add(layers.Dropout(drop_out_prob))\n",
        "model.add(layers.Dense(1, activation='sigmoid'))\n",
        "model.compile(optimizer='adam',\n",
        "              loss='binary_crossentropy',\n",
        "              metrics=['accuracy'])\n",
        "model.summary()"
      ],
      "execution_count": 38,
      "outputs": [
        {
          "output_type": "stream",
          "text": [
            "Model: \"sequential_2\"\n",
            "_________________________________________________________________\n",
            "Layer (type)                 Output Shape              Param #   \n",
            "=================================================================\n",
            "embedding_1 (Embedding)      (None, 280, 100)          1809900   \n",
            "_________________________________________________________________\n",
            "global_max_pooling1d_1 (Glob (None, 100)               0         \n",
            "_________________________________________________________________\n",
            "dense_6 (Dense)              (None, 30)                3030      \n",
            "_________________________________________________________________\n",
            "dropout_4 (Dropout)          (None, 30)                0         \n",
            "_________________________________________________________________\n",
            "dense_7 (Dense)              (None, 10)                310       \n",
            "_________________________________________________________________\n",
            "dropout_5 (Dropout)          (None, 10)                0         \n",
            "_________________________________________________________________\n",
            "dense_8 (Dense)              (None, 1)                 11        \n",
            "=================================================================\n",
            "Total params: 1,813,251\n",
            "Trainable params: 1,813,251\n",
            "Non-trainable params: 0\n",
            "_________________________________________________________________\n"
          ],
          "name": "stdout"
        }
      ]
    },
    {
      "cell_type": "code",
      "metadata": {
        "id": "kt8eoAVbt5a7",
        "colab_type": "code",
        "colab": {
          "base_uri": "https://localhost:8080/",
          "height": 1000
        },
        "outputId": "e7dc4cdc-7a49-478a-b56c-5eaa14f0cdbe"
      },
      "source": [
        "history = model.fit(X_train, y_train,\n",
        "                    epochs=50,\n",
        "                    verbose=1,\n",
        "                    validation_split=0.2,\n",
        "                    batch_size=100)\n",
        "plot_history(history)"
      ],
      "execution_count": 39,
      "outputs": [
        {
          "output_type": "stream",
          "text": [
            "Epoch 1/50\n",
            "61/61 [==============================] - 2s 33ms/step - loss: 0.6773 - accuracy: 0.5775 - val_loss: 0.6845 - val_accuracy: 0.5345\n",
            "Epoch 2/50\n",
            "61/61 [==============================] - 2s 29ms/step - loss: 0.6140 - accuracy: 0.6080 - val_loss: 0.6251 - val_accuracy: 0.6881\n",
            "Epoch 3/50\n",
            "61/61 [==============================] - 2s 28ms/step - loss: 0.4871 - accuracy: 0.8204 - val_loss: 0.5253 - val_accuracy: 0.7866\n",
            "Epoch 4/50\n",
            "61/61 [==============================] - 2s 28ms/step - loss: 0.3204 - accuracy: 0.8987 - val_loss: 0.4710 - val_accuracy: 0.7886\n",
            "Epoch 5/50\n",
            "61/61 [==============================] - 2s 28ms/step - loss: 0.2081 - accuracy: 0.9450 - val_loss: 0.4829 - val_accuracy: 0.7886\n",
            "Epoch 6/50\n",
            "61/61 [==============================] - 2s 28ms/step - loss: 0.1421 - accuracy: 0.9624 - val_loss: 0.5234 - val_accuracy: 0.7564\n",
            "Epoch 7/50\n",
            "61/61 [==============================] - 2s 28ms/step - loss: 0.1129 - accuracy: 0.9708 - val_loss: 0.5602 - val_accuracy: 0.7511\n",
            "Epoch 8/50\n",
            "61/61 [==============================] - 2s 28ms/step - loss: 0.0979 - accuracy: 0.9752 - val_loss: 0.5936 - val_accuracy: 0.7472\n",
            "Epoch 9/50\n",
            "61/61 [==============================] - 2s 27ms/step - loss: 0.0801 - accuracy: 0.9778 - val_loss: 0.6084 - val_accuracy: 0.7728\n",
            "Epoch 10/50\n",
            "61/61 [==============================] - 2s 28ms/step - loss: 0.0709 - accuracy: 0.9810 - val_loss: 0.6413 - val_accuracy: 0.7557\n",
            "Epoch 11/50\n",
            "61/61 [==============================] - 2s 28ms/step - loss: 0.0771 - accuracy: 0.9768 - val_loss: 0.6422 - val_accuracy: 0.7735\n",
            "Epoch 12/50\n",
            "61/61 [==============================] - 2s 28ms/step - loss: 0.0701 - accuracy: 0.9828 - val_loss: 0.6548 - val_accuracy: 0.7610\n",
            "Epoch 13/50\n",
            "61/61 [==============================] - 2s 27ms/step - loss: 0.0697 - accuracy: 0.9808 - val_loss: 0.6732 - val_accuracy: 0.7511\n",
            "Epoch 14/50\n",
            "61/61 [==============================] - 2s 28ms/step - loss: 0.0669 - accuracy: 0.9819 - val_loss: 0.6801 - val_accuracy: 0.7426\n",
            "Epoch 15/50\n",
            "61/61 [==============================] - 2s 28ms/step - loss: 0.0615 - accuracy: 0.9831 - val_loss: 0.6839 - val_accuracy: 0.7459\n",
            "Epoch 16/50\n",
            "61/61 [==============================] - 2s 28ms/step - loss: 0.0550 - accuracy: 0.9828 - val_loss: 0.7516 - val_accuracy: 0.7360\n",
            "Epoch 17/50\n",
            "61/61 [==============================] - 2s 28ms/step - loss: 0.0565 - accuracy: 0.9823 - val_loss: 0.6895 - val_accuracy: 0.7695\n",
            "Epoch 18/50\n",
            "61/61 [==============================] - 2s 27ms/step - loss: 0.0505 - accuracy: 0.9846 - val_loss: 0.7620 - val_accuracy: 0.7387\n",
            "Epoch 19/50\n",
            "61/61 [==============================] - 2s 28ms/step - loss: 0.0484 - accuracy: 0.9841 - val_loss: 0.7749 - val_accuracy: 0.7282\n",
            "Epoch 20/50\n",
            "61/61 [==============================] - 2s 28ms/step - loss: 0.0476 - accuracy: 0.9839 - val_loss: 0.7526 - val_accuracy: 0.7479\n",
            "Epoch 21/50\n",
            "61/61 [==============================] - 2s 28ms/step - loss: 0.0455 - accuracy: 0.9831 - val_loss: 0.7638 - val_accuracy: 0.7466\n",
            "Epoch 22/50\n",
            "61/61 [==============================] - 2s 28ms/step - loss: 0.0407 - accuracy: 0.9846 - val_loss: 0.7896 - val_accuracy: 0.7439\n",
            "Epoch 23/50\n",
            "61/61 [==============================] - 2s 28ms/step - loss: 0.0415 - accuracy: 0.9857 - val_loss: 0.8178 - val_accuracy: 0.7479\n",
            "Epoch 24/50\n",
            "61/61 [==============================] - 2s 28ms/step - loss: 0.0396 - accuracy: 0.9834 - val_loss: 0.8760 - val_accuracy: 0.7406\n",
            "Epoch 25/50\n",
            "61/61 [==============================] - 2s 28ms/step - loss: 0.0402 - accuracy: 0.9854 - val_loss: 0.8766 - val_accuracy: 0.7387\n",
            "Epoch 26/50\n",
            "61/61 [==============================] - 2s 28ms/step - loss: 0.0358 - accuracy: 0.9849 - val_loss: 0.9419 - val_accuracy: 0.7328\n",
            "Epoch 27/50\n",
            "61/61 [==============================] - 2s 29ms/step - loss: 0.0344 - accuracy: 0.9852 - val_loss: 0.9671 - val_accuracy: 0.7321\n",
            "Epoch 28/50\n",
            "61/61 [==============================] - 2s 28ms/step - loss: 0.0338 - accuracy: 0.9851 - val_loss: 1.0070 - val_accuracy: 0.7328\n",
            "Epoch 29/50\n",
            "61/61 [==============================] - 2s 28ms/step - loss: 0.0366 - accuracy: 0.9844 - val_loss: 0.9658 - val_accuracy: 0.7518\n",
            "Epoch 30/50\n",
            "61/61 [==============================] - 2s 27ms/step - loss: 0.0356 - accuracy: 0.9833 - val_loss: 0.9903 - val_accuracy: 0.7347\n",
            "Epoch 31/50\n",
            "61/61 [==============================] - 2s 28ms/step - loss: 0.0337 - accuracy: 0.9851 - val_loss: 1.0184 - val_accuracy: 0.7380\n",
            "Epoch 32/50\n",
            "61/61 [==============================] - 2s 28ms/step - loss: 0.0353 - accuracy: 0.9834 - val_loss: 1.0739 - val_accuracy: 0.7328\n",
            "Epoch 33/50\n",
            "61/61 [==============================] - 2s 28ms/step - loss: 0.0325 - accuracy: 0.9836 - val_loss: 1.0594 - val_accuracy: 0.7354\n",
            "Epoch 34/50\n",
            "61/61 [==============================] - 2s 28ms/step - loss: 0.0342 - accuracy: 0.9841 - val_loss: 1.0396 - val_accuracy: 0.7393\n",
            "Epoch 35/50\n",
            "61/61 [==============================] - 2s 28ms/step - loss: 0.0329 - accuracy: 0.9842 - val_loss: 1.0930 - val_accuracy: 0.7295\n",
            "Epoch 36/50\n",
            "61/61 [==============================] - 2s 28ms/step - loss: 0.0320 - accuracy: 0.9859 - val_loss: 1.1052 - val_accuracy: 0.7334\n",
            "Epoch 37/50\n",
            "61/61 [==============================] - 2s 27ms/step - loss: 0.0331 - accuracy: 0.9864 - val_loss: 1.1960 - val_accuracy: 0.7229\n",
            "Epoch 38/50\n",
            "61/61 [==============================] - 2s 28ms/step - loss: 0.0364 - accuracy: 0.9831 - val_loss: 1.0882 - val_accuracy: 0.7387\n",
            "Epoch 39/50\n",
            "61/61 [==============================] - 2s 28ms/step - loss: 0.0322 - accuracy: 0.9857 - val_loss: 1.1275 - val_accuracy: 0.7387\n",
            "Epoch 40/50\n",
            "61/61 [==============================] - 2s 27ms/step - loss: 0.0305 - accuracy: 0.9864 - val_loss: 1.1673 - val_accuracy: 0.7479\n",
            "Epoch 41/50\n",
            "61/61 [==============================] - 2s 28ms/step - loss: 0.0308 - accuracy: 0.9859 - val_loss: 1.2024 - val_accuracy: 0.7334\n",
            "Epoch 42/50\n",
            "61/61 [==============================] - 2s 27ms/step - loss: 0.0311 - accuracy: 0.9862 - val_loss: 1.2426 - val_accuracy: 0.7301\n",
            "Epoch 43/50\n",
            "61/61 [==============================] - 2s 27ms/step - loss: 0.0316 - accuracy: 0.9857 - val_loss: 1.2222 - val_accuracy: 0.7275\n",
            "Epoch 44/50\n",
            "61/61 [==============================] - 2s 28ms/step - loss: 0.0318 - accuracy: 0.9852 - val_loss: 1.2295 - val_accuracy: 0.7321\n",
            "Epoch 45/50\n",
            "61/61 [==============================] - 2s 29ms/step - loss: 0.0310 - accuracy: 0.9864 - val_loss: 1.2630 - val_accuracy: 0.7282\n",
            "Epoch 46/50\n",
            "61/61 [==============================] - 2s 30ms/step - loss: 0.0320 - accuracy: 0.9856 - val_loss: 1.2522 - val_accuracy: 0.7347\n",
            "Epoch 47/50\n",
            "61/61 [==============================] - 2s 30ms/step - loss: 0.0315 - accuracy: 0.9844 - val_loss: 1.1649 - val_accuracy: 0.7466\n",
            "Epoch 48/50\n",
            "61/61 [==============================] - 2s 29ms/step - loss: 0.0311 - accuracy: 0.9849 - val_loss: 1.2306 - val_accuracy: 0.7387\n",
            "Epoch 49/50\n",
            "61/61 [==============================] - 2s 29ms/step - loss: 0.0316 - accuracy: 0.9852 - val_loss: 1.2308 - val_accuracy: 0.7380\n",
            "Epoch 50/50\n",
            "61/61 [==============================] - 2s 29ms/step - loss: 0.0298 - accuracy: 0.9854 - val_loss: 1.2890 - val_accuracy: 0.7301\n"
          ],
          "name": "stdout"
        },
        {
          "output_type": "display_data",
          "data": {
            "image/png": "[encoded data removed]",
            "text/plain": [
              "<Figure size 864x360 with 2 Axes>"
            ]
          },
          "metadata": {
            "tags": []
          }
        }
      ]
    },
    {
      "cell_type": "code",
      "metadata": {
        "id": "Hg-vb2kAvl4-",
        "colab_type": "code",
        "colab": {}
      },
      "source": [
        "\n",
        "import tensorflow as tf\n",
        "import tensorflow_hub as hub\n",
        "from tensorflow.keras.callbacks import ModelCheckpoint"
      ],
      "execution_count": 0,
      "outputs": []
    },
    {
      "cell_type": "code",
      "metadata": {
        "id": "6jfz6IAvnbgq",
        "colab_type": "code",
        "colab": {
          "base_uri": "https://localhost:8080/",
          "height": 51
        },
        "outputId": "8bbeeb58-6ed8-4368-d876-4afa4abcc785"
      },
      "source": [
        "%%time\n",
        "module_url = 'https://tfhub.dev/google/universal-sentence-encoder-large/4'\n",
        "embed = hub.KerasLayer(module_url, trainable=False, name='USE_embedding')"
      ],
      "execution_count": 41,
      "outputs": [
        {
          "output_type": "stream",
          "text": [
            "CPU times: user 16.3 s, sys: 2.79 s, total: 19.1 s\n",
            "Wall time: 18.6 s\n"
          ],
          "name": "stdout"
        }
      ]
    },
    {
      "cell_type": "code",
      "metadata": {
        "id": "ZNPz5_UN4B_T",
        "colab_type": "code",
        "colab": {}
      },
      "source": [
        "   # Créons un learning rate schedule pour décroitre le learning rate à mesure que nous entrainons le modèle \n",
        "initial_learning_rate = 0.0001\n",
        "\n",
        "lr_schedule = tf.keras.optimizers.schedules.ExponentialDecay(\n",
        "    initial_learning_rate,\n",
        "    decay_steps=1000,\n",
        "    decay_rate=0.96,\n",
        "    staircase=True)\n",
        "\n",
        "# Utilisation d'un compileur simple avec un optimiseur Adam pour le calcul de nos gradients \n",
        "optimizer= tf.keras.optimizers.Adam(\n",
        "    learning_rate = lr_schedule\n",
        ")\n"
      ],
      "execution_count": 0,
      "outputs": []
    },
    {
      "cell_type": "code",
      "metadata": {
        "id": "-Yi8j73A3g1i",
        "colab_type": "code",
        "colab": {}
      },
      "source": [
        "def build_model(embed):\n",
        "    model = Sequential([\n",
        "        layers.Input(shape=[], dtype=tf.string),\n",
        "        embed,\n",
        "        layers.Dense(256, activation='relu'),\n",
        "        layers.BatchNormalization(),\n",
        "        layers.Dropout(0.5),\n",
        "        layers.Dense(128, activation='relu'),\n",
        "        layers.BatchNormalization(),\n",
        "        layers.Dropout(0.5),\n",
        "        layers.Dense(1, activation='sigmoid')\n",
        "    ])\n",
        "\n",
        " \n",
        "\n",
        "    model.compile(optimizer = \"adam\", loss='binary_crossentropy', metrics=['accuracy'])\n",
        "    \n",
        "    return model"
      ],
      "execution_count": 0,
      "outputs": []
    },
    {
      "cell_type": "code",
      "metadata": {
        "id": "dJbuNaEZ3iV_",
        "colab_type": "code",
        "colab": {
          "base_uri": "https://localhost:8080/",
          "height": 425
        },
        "outputId": "2ee8799c-6f6f-491f-e246-fab5f41eb70f"
      },
      "source": [
        "model = build_model(embed)\n",
        "model.summary()"
      ],
      "execution_count": 44,
      "outputs": [
        {
          "output_type": "stream",
          "text": [
            "Model: \"sequential_3\"\n",
            "_________________________________________________________________\n",
            "Layer (type)                 Output Shape              Param #   \n",
            "=================================================================\n",
            "USE_embedding (KerasLayer)   {'outputs': (None, 512)}  147354880 \n",
            "_________________________________________________________________\n",
            "dense_9 (Dense)              (None, 256)               131328    \n",
            "_________________________________________________________________\n",
            "batch_normalization_2 (Batch (None, 256)               1024      \n",
            "_________________________________________________________________\n",
            "dropout_6 (Dropout)          (None, 256)               0         \n",
            "_________________________________________________________________\n",
            "dense_10 (Dense)             (None, 128)               32896     \n",
            "_________________________________________________________________\n",
            "batch_normalization_3 (Batch (None, 128)               512       \n",
            "_________________________________________________________________\n",
            "dropout_7 (Dropout)          (None, 128)               0         \n",
            "_________________________________________________________________\n",
            "dense_11 (Dense)             (None, 1)                 129       \n",
            "=================================================================\n",
            "Total params: 147,520,769\n",
            "Trainable params: 165,121\n",
            "Non-trainable params: 147,355,648\n",
            "_________________________________________________________________\n"
          ],
          "name": "stdout"
        }
      ]
    },
    {
      "cell_type": "code",
      "metadata": {
        "id": "phLGtMJy4Ji_",
        "colab_type": "code",
        "colab": {
          "base_uri": "https://localhost:8080/",
          "height": 717
        },
        "outputId": "976d362f-05e8-4eda-977b-76a3238287de"
      },
      "source": [
        "\n",
        "checkpoint = ModelCheckpoint('model.h5', monitor='val_loss', save_best_only=True)\n",
        "\n",
        "history = model.fit(\n",
        "    sent_data, labels_data,\n",
        "    validation_split=0.2,\n",
        "    epochs=20,\n",
        "    callbacks=[checkpoint],\n",
        "    batch_size=32\n",
        ")\n"
      ],
      "execution_count": 45,
      "outputs": [
        {
          "output_type": "stream",
          "text": [
            "Epoch 1/20\n",
            "191/191 [==============================] - 26s 136ms/step - loss: 0.5847 - accuracy: 0.7461 - val_loss: 0.6197 - val_accuracy: 0.5680\n",
            "Epoch 2/20\n",
            "191/191 [==============================] - 17s 89ms/step - loss: 0.4481 - accuracy: 0.8072 - val_loss: 0.4645 - val_accuracy: 0.8083\n",
            "Epoch 3/20\n",
            "191/191 [==============================] - 17s 91ms/step - loss: 0.4151 - accuracy: 0.8209 - val_loss: 0.3868 - val_accuracy: 0.8365\n",
            "Epoch 4/20\n",
            "191/191 [==============================] - 17s 91ms/step - loss: 0.3762 - accuracy: 0.8360 - val_loss: 0.3816 - val_accuracy: 0.8359\n",
            "Epoch 5/20\n",
            "191/191 [==============================] - 13s 69ms/step - loss: 0.3482 - accuracy: 0.8499 - val_loss: 0.3935 - val_accuracy: 0.8385\n",
            "Epoch 6/20\n",
            "191/191 [==============================] - 13s 70ms/step - loss: 0.3378 - accuracy: 0.8525 - val_loss: 0.4069 - val_accuracy: 0.8378\n",
            "Epoch 7/20\n",
            "191/191 [==============================] - 13s 70ms/step - loss: 0.3162 - accuracy: 0.8719 - val_loss: 0.4162 - val_accuracy: 0.8339\n",
            "Epoch 8/20\n",
            "191/191 [==============================] - 13s 71ms/step - loss: 0.2839 - accuracy: 0.8834 - val_loss: 0.4346 - val_accuracy: 0.8280\n",
            "Epoch 9/20\n",
            "191/191 [==============================] - 13s 69ms/step - loss: 0.2665 - accuracy: 0.8908 - val_loss: 0.4531 - val_accuracy: 0.8313\n",
            "Epoch 10/20\n",
            "191/191 [==============================] - 13s 70ms/step - loss: 0.2454 - accuracy: 0.9011 - val_loss: 0.4676 - val_accuracy: 0.8260\n",
            "Epoch 11/20\n",
            "191/191 [==============================] - 14s 72ms/step - loss: 0.2365 - accuracy: 0.9076 - val_loss: 0.4775 - val_accuracy: 0.8319\n",
            "Epoch 12/20\n",
            "191/191 [==============================] - 14s 71ms/step - loss: 0.2211 - accuracy: 0.9163 - val_loss: 0.5056 - val_accuracy: 0.8286\n",
            "Epoch 13/20\n",
            "191/191 [==============================] - 14s 71ms/step - loss: 0.2053 - accuracy: 0.9187 - val_loss: 0.5064 - val_accuracy: 0.8247\n",
            "Epoch 14/20\n",
            "191/191 [==============================] - 14s 71ms/step - loss: 0.1955 - accuracy: 0.9251 - val_loss: 0.5493 - val_accuracy: 0.8299\n",
            "Epoch 15/20\n",
            "191/191 [==============================] - 14s 72ms/step - loss: 0.1863 - accuracy: 0.9256 - val_loss: 0.5393 - val_accuracy: 0.8326\n",
            "Epoch 16/20\n",
            "191/191 [==============================] - 14s 71ms/step - loss: 0.1728 - accuracy: 0.9314 - val_loss: 0.5645 - val_accuracy: 0.8267\n",
            "Epoch 17/20\n",
            "191/191 [==============================] - 14s 72ms/step - loss: 0.1616 - accuracy: 0.9374 - val_loss: 0.5900 - val_accuracy: 0.8155\n",
            "Epoch 18/20\n",
            "191/191 [==============================] - 14s 71ms/step - loss: 0.1614 - accuracy: 0.9401 - val_loss: 0.5945 - val_accuracy: 0.8234\n",
            "Epoch 19/20\n",
            "191/191 [==============================] - 14s 72ms/step - loss: 0.1455 - accuracy: 0.9455 - val_loss: 0.6092 - val_accuracy: 0.8240\n",
            "Epoch 20/20\n",
            "191/191 [==============================] - 14s 72ms/step - loss: 0.1511 - accuracy: 0.9419 - val_loss: 0.6077 - val_accuracy: 0.8175\n"
          ],
          "name": "stdout"
        }
      ]
    },
    {
      "cell_type": "code",
      "metadata": {
        "id": "54RuCet3tabo",
        "colab_type": "code",
        "outputId": "41efec34-90a1-49d7-c91e-741de6b8c58d",
        "colab": {
          "base_uri": "https://localhost:8080/",
          "height": 337
        }
      },
      "source": [
        "\n",
        "plot_history(history)"
      ],
      "execution_count": 46,
      "outputs": [
        {
          "output_type": "display_data",
          "data": {
            "image/png": "[encoded data removed]",
            "text/plain": [
              "<Figure size 864x360 with 2 Axes>"
            ]
          },
          "metadata": {
            "tags": []
          }
        }
      ]
    }
  ]
}